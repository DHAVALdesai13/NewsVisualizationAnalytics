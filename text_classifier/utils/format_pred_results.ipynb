{
 "cells": [
  {
   "cell_type": "code",
   "execution_count": 1,
   "metadata": {},
   "outputs": [],
   "source": [
    "import time\n",
    "import tqdm\n",
    "import csv\n",
    "import tqdm"
   ]
  },
  {
   "cell_type": "code",
   "execution_count": 2,
   "metadata": {},
   "outputs": [
    {
     "name": "stdout",
     "output_type": "stream",
     "text": [
      "12.71827507019043\n"
     ]
    }
   ],
   "source": [
    "csv.field_size_limit(100000000)\n",
    "csvpath = \"data/all_sampled2.csv\"\n",
    "num_articles = 1e10\n",
    "\n",
    "news = []\n",
    "\n",
    "with open(csvpath) as csv_file:\n",
    "    csv_reader = csv.reader(csv_file, delimiter=',')\n",
    "    t0 = time.time()\n",
    "    for i, row in enumerate(csv_reader):\n",
    "        # if i%1000==0:\n",
    "        #   print(i)\n",
    "        if i>=num_articles:\n",
    "            break\n",
    "        article = \",\".join(row[7:-3])\n",
    "        date = row[2].strip().split(' ')[0].replace('-', '')[1:7]+\"01\"\n",
    "        source = row[-1].split(\"'\")[1]\n",
    "        link = row[-3]\n",
    "        \n",
    "        news_source_dict = {}\n",
    "        news_source_dict['date'] = date\n",
    "        news_source_dict['news_source'] = source\n",
    "        news_source_dict['url'] = link\n",
    "        \n",
    "        news.append(news_source_dict)\n",
    "        # pred = learn.predict(article)\n",
    "        # results.append(int(pred[1]))\n",
    "\n",
    "    t1 = time.time() - t0\n",
    "    print(t1)\n"
   ]
  },
  {
   "cell_type": "code",
   "execution_count": 3,
   "metadata": {
    "scrolled": false
   },
   "outputs": [],
   "source": [
    "preds = open(\"data/preds.txt\").read().split('\\n')[:-1]\n",
    "preds_ = list(map(lambda x: x.split(' ')[1], preds))\n",
    "# print(preds_)\n",
    "\n",
    "for i, elem in enumerate(news):\n",
    "    if i>=len(preds_):\n",
    "        break\n",
    "    elem['pred_label'] = preds_[i]\n",
    "\n",
    "news = news[:len(preds_)]\n",
    "\n",
    "news_dict = {}\n",
    "for elem in news:\n",
    "    key = elem['news_source']\n",
    "#     print(key, elem)\n",
    "#     break\n",
    "    if key in news_dict:\n",
    "        news_dict[key].append(elem)\n",
    "    else:\n",
    "        news_dict[key] = [elem]"
   ]
  },
  {
   "cell_type": "code",
   "execution_count": 4,
   "metadata": {
    "scrolled": false
   },
   "outputs": [
    {
     "name": "stdout",
     "output_type": "stream",
     "text": [
      "8\n",
      "Reuters 76061\n",
      "The New York Times 21913\n",
      "People 14364\n",
      "CNBC 16165\n",
      "Vice 10348\n",
      "The Hill 18714\n",
      "CNN 9558\n",
      "Mashable 9072\n",
      "176195\n"
     ]
    },
    {
     "data": {
      "text/plain": [
       "{'date': '20170801',\n",
       " 'news_source': 'Reuters',\n",
       " 'url': \" 'https://www.reuters.com/article/brief-ve-wong-to-pay-2016-dividend-on-oc/brief-ve-wong-to-pay-2016-dividend-on-oct-5-idUSL4N1KX33L'\",\n",
       " 'pred_label': 'TECH'}"
      ]
     },
     "execution_count": 4,
     "metadata": {},
     "output_type": "execute_result"
    }
   ],
   "source": [
    "count=0\n",
    "news_dict2 = {}\n",
    "for key in news_dict:\n",
    "    num = len(news_dict[key])\n",
    "    count+=num\n",
    "    if num>=9000:\n",
    "        news_dict2[key] = news_dict[key]\n",
    "\n",
    "\n",
    "print(len(news_dict2))\n",
    "\n",
    "count=0\n",
    "for key in news_dict2:\n",
    "    count+=len(news_dict2[key])\n",
    "    num = len(news_dict2[key])\n",
    "    print(key, num)\n",
    "\n",
    "print(count)\n",
    "\n",
    "news_dict2[\"Reuters\"][0]"
   ]
  },
  {
   "cell_type": "code",
   "execution_count": 23,
   "metadata": {
    "scrolled": true
   },
   "outputs": [
    {
     "name": "stdout",
     "output_type": "stream",
     "text": [
      "Reuters\n",
      "2017 23260\n",
      "2016 20722\n",
      "2018 17910\n",
      "2019 14169\n",
      "The New York Times\n",
      "2019 3029\n",
      "2018 5739\n",
      "2016 7328\n",
      "2017 5817\n",
      "People\n",
      "2018 3812\n",
      "2019 3045\n",
      "2016 3632\n",
      "2017 3875\n",
      "CNBC\n",
      "2018 3789\n",
      "2017 4049\n",
      "2019 5140\n",
      "2016 3187\n",
      "Vice\n",
      "2019 1003\n",
      "2016 4013\n",
      "2017 3294\n",
      "2018 2038\n",
      "The Hill\n",
      "2019 3882\n",
      "2017 5169\n",
      "2016 4618\n",
      "2018 5045\n",
      "CNN\n",
      "2017 2365\n",
      "2018 2750\n",
      "2019 2275\n",
      "2016 2168\n",
      "Mashable\n",
      "2016 3182\n",
      "2018 1787\n",
      "2017 2775\n",
      "2019 1328\n",
      "{'date': '20160101', 'news_source': 'Reuters', 'url': \" 'http://www.reuters.com/article/us-opec-ecuador-idUSKCN0V32KJ'\", 'pred_label': 'ENVIRONMENT'}\n"
     ]
    }
   ],
   "source": [
    "news_dict3 = {}\n",
    "# for key in news_dict2:\n",
    "#     news_dict3[key] = {}\n",
    "    \n",
    "for key in news_dict2:\n",
    "#     years = [elem['date'][:4] for elem in news_dict2[key]]\n",
    "    row = {}\n",
    "    for elem in news_dict2[key]:\n",
    "        year = elem['date'][:4]\n",
    "        if year in row:\n",
    "            row[year].append(elem)\n",
    "        else:\n",
    "            row[year] = [elem]\n",
    "        \n",
    "    news_dict3[key] = row\n",
    "#     print(len(row['2019']))\n",
    "\n",
    "\n",
    "count = 0\n",
    "for key in news_dict3:\n",
    "    print(key)\n",
    "    for key2 in news_dict3[key]:\n",
    "        print(key2, len(news_dict3[key][key2]))\n",
    "\n",
    "print(news_dict3['Reuters']['2016'][100])\n"
   ]
  },
  {
   "cell_type": "code",
   "execution_count": 42,
   "metadata": {},
   "outputs": [],
   "source": [
    "news_dict4 = {}\n",
    "for key in news_dict3:\n",
    "    news_dict4[key] = {}\n",
    "    for key2 in news_dict3[key]:\n",
    "        row = {}\n",
    "        for elem in news_dict3[key][key2]:\n",
    "            label = elem[\"pred_label\"]\n",
    "            if label in row:\n",
    "                row[label].append(elem)\n",
    "            else:\n",
    "                row[label] = [elem]\n",
    "        news_dict4[key][key2] = row\n",
    "\n",
    "category_list = []\n",
    "count = 0\n",
    "for key in news_dict4:\n",
    "    for key2 in news_dict4[key]:\n",
    "        for key3 in news_dict4[key][key2]:\n",
    "            elem = news_dict4[key][key2]\n",
    "            num = len(news_dict4[key][key2][key3])\n",
    "#             print(key3, num)\n",
    "            category_list.append(key3)\n",
    "            count+=num\n",
    "#         break\n",
    "#     break\n",
    "category_list = list(set(category_list))"
   ]
  },
  {
   "cell_type": "code",
   "execution_count": 67,
   "metadata": {},
   "outputs": [],
   "source": [
    "csv_template = \"\"\n",
    "for _ in range(len(category_list)+2):\n",
    "    csv_template+='{},'\n",
    "csv_template+='\\n'\n",
    "\n",
    "with open(\"data/bardata_real.csv\", 'w') as outfile:\n",
    "    headers = csv_template.format(\"News-source\", \"year\", *category_list)\n",
    "    outfile.write(headers)\n",
    "    for key in news_dict4:\n",
    "        for key2 in news_dict4[key]:\n",
    "            res = []\n",
    "            for key3 in category_list:\n",
    "                if key3 in news_dict4[key][key2]:\n",
    "                    num = len(news_dict4[key][key2][key3])\n",
    "                else:\n",
    "                    num = 0\n",
    "                res.append(num)\n",
    "            write_res = csv_template.format(key, key2, *res)\n",
    "            outfile.write(write_res)"
   ]
  }
 ],
 "metadata": {
  "kernelspec": {
   "display_name": "Python 3",
   "language": "python",
   "name": "python3"
  },
  "language_info": {
   "codemirror_mode": {
    "name": "ipython",
    "version": 3
   },
   "file_extension": ".py",
   "mimetype": "text/x-python",
   "name": "python",
   "nbconvert_exporter": "python",
   "pygments_lexer": "ipython3",
   "version": "3.8.3"
  }
 },
 "nbformat": 4,
 "nbformat_minor": 4
}
